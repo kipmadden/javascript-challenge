{
 "cells": [
  {
   "cell_type": "markdown",
   "metadata": {},
   "source": [
    "# JavaScript Homework - JavaScript and DOM Manipulation\n",
    "\n",
    "[ufo at night](UFO-level-3/static/images/earth_with_ufo_resized.jpg)\n",
    "## Background\n",
    "\n",
    "WAKE UP SHEEPLE! The extra-terrestrial menace has come to Earth and we here at `ALIENS-R-REAL` have collected all of the eye-witness reports we could to prove it! All we need to do now is put this information online for the world to see and then the matter will finally be put to rest.\n",
    "\n",
    "There is just one tiny problem though... our collection is too large to search through manually. Even our most dedicated followers are complaining that they are having trouble locating specific reports in this mess.\n",
    "\n",
    "That's why we are hiring you. We need you to write code that will create a table dynamically based upon a [dataset we provide](UFO-level-1/static/js/data.js). We also need to allow our users to filter the table data for specific values. There's a catch though... we only use pure JavaScript, HTML, and CSS, and D3.js on our web pages. They are the only coding languages which can be trusted.\n",
    "\n",
    "You can handle this... right? The planet Earth needs to know what we have found!\n",
    "\n",
    "\n",
    "\n",
    "### Level 1: Automatic Table and Date Search \n",
    "\n",
    "* Using a basic HTML page [index.html](UFO-level-1/index.html) provided it was hosted here: [UFO level 1 site](https://kipmadden.github.io/javascript-challenge/UFO-level-1/index.html) \n",
    "\n",
    "* Using the UFO dataset provided in the form of an array of JavaScript objects, code was written that appends a table to the web page and new rows of data were added for each UFO sighting that are searched based on a search date of the format `1/1/2010`\n",
    "\n",
    "  * Columns for `date/time`, `city`, `state`, `country`, `shape`, and `comment` were provided\n",
    "\n",
    "* A date form in the HTML document used JavaScript code that listened for events and searched through the `date/time` column to find rows that matched user input.\n",
    "\n",
    "### Level 2: Multiple Search Categories (Optional)\n",
    "\n",
    "* The same basic HTML page [index.html](UFO-level-2/index.html) was used and hosted here: [UFO level 2 site](https://kipmadden.github.io/javascript-challenge/UFO-level-2/index.html) \n",
    "\n",
    "* Multiple `input` fields were used along with JavaScript code so the user can filter and search for UFO sightings using the following criteria based on the table columns:\n",
    "\n",
    "  1. `date/time`\n",
    "  2. `city`\n",
    "  3. `state`\n",
    "  4. `country`\n",
    "  5. `shape`\n",
    "\n",
    "### Level 3: Multiple Search Categories with modified web page\n",
    "\n",
    "* The same basic HTML page [index.html](UFO-level-3/index.html) was used amand hosted here: [UFO level 2 site](https://kipmadden.github.io/javascript-challenge/UFO-level-2/index.html) \n",
    "\n",
    "\n",
    "- - -\n",
    "\n",
    "### Dataset\n",
    "\n",
    "* [UFO Sightings Data](static/js/data.js)\n",
    "\n",
    "- - -\n",
    "\n",
    "**Good luck!**\n",
    "\n",
    "- - -\n",
    "\n",
    "### Copyright\n",
    "\n",
    "Trilogy Education Services © 2019. All Rights Reserved.\n"
   ]
  },
  {
   "cell_type": "code",
   "execution_count": null,
   "metadata": {},
   "outputs": [],
   "source": []
  }
 ],
 "metadata": {
  "kernelspec": {
   "display_name": "Python 3",
   "language": "python",
   "name": "python3"
  },
  "language_info": {
   "codemirror_mode": {
    "name": "ipython",
    "version": 3
   },
   "file_extension": ".py",
   "mimetype": "text/x-python",
   "name": "python",
   "nbconvert_exporter": "python",
   "pygments_lexer": "ipython3",
   "version": "3.7.3"
  }
 },
 "nbformat": 4,
 "nbformat_minor": 2
}
